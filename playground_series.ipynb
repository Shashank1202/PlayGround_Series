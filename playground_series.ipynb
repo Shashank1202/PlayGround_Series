{
 "cells": [
  {
   "cell_type": "code",
   "execution_count": 1,
   "id": "79c724cc",
   "metadata": {},
   "outputs": [],
   "source": [
    "import pandas as pd\n",
    "import numpy as np"
   ]
  },
  {
   "cell_type": "code",
   "execution_count": 2,
   "id": "3685b500",
   "metadata": {},
   "outputs": [],
   "source": [
    "train=pd.read_csv(r'C:\\Users\\shashank s\\Downloads\\tabular-playground-series-jan-2021\\train.csv')\n",
    "test=pd.read_csv(r'C:\\Users\\shashank s\\Downloads\\tabular-playground-series-jan-2021\\test.csv')\n",
    "test_ids=test[\"id\"]"
   ]
  },
  {
   "cell_type": "code",
   "execution_count": 3,
   "id": "8ef84c29",
   "metadata": {},
   "outputs": [
    {
     "data": {
      "text/html": [
       "<div>\n",
       "<style scoped>\n",
       "    .dataframe tbody tr th:only-of-type {\n",
       "        vertical-align: middle;\n",
       "    }\n",
       "\n",
       "    .dataframe tbody tr th {\n",
       "        vertical-align: top;\n",
       "    }\n",
       "\n",
       "    .dataframe thead th {\n",
       "        text-align: right;\n",
       "    }\n",
       "</style>\n",
       "<table border=\"1\" class=\"dataframe\">\n",
       "  <thead>\n",
       "    <tr style=\"text-align: right;\">\n",
       "      <th></th>\n",
       "      <th>id</th>\n",
       "      <th>cont1</th>\n",
       "      <th>cont2</th>\n",
       "      <th>cont3</th>\n",
       "      <th>cont4</th>\n",
       "      <th>cont5</th>\n",
       "      <th>cont6</th>\n",
       "      <th>cont7</th>\n",
       "      <th>cont8</th>\n",
       "      <th>cont9</th>\n",
       "      <th>cont10</th>\n",
       "      <th>cont11</th>\n",
       "      <th>cont12</th>\n",
       "      <th>cont13</th>\n",
       "      <th>cont14</th>\n",
       "      <th>target</th>\n",
       "    </tr>\n",
       "  </thead>\n",
       "  <tbody>\n",
       "    <tr>\n",
       "      <th>0</th>\n",
       "      <td>1</td>\n",
       "      <td>0.670390</td>\n",
       "      <td>0.811300</td>\n",
       "      <td>0.643968</td>\n",
       "      <td>0.291791</td>\n",
       "      <td>0.284117</td>\n",
       "      <td>0.855953</td>\n",
       "      <td>0.890700</td>\n",
       "      <td>0.285542</td>\n",
       "      <td>0.558245</td>\n",
       "      <td>0.779418</td>\n",
       "      <td>0.921832</td>\n",
       "      <td>0.866772</td>\n",
       "      <td>0.878733</td>\n",
       "      <td>0.305411</td>\n",
       "      <td>7.243043</td>\n",
       "    </tr>\n",
       "    <tr>\n",
       "      <th>1</th>\n",
       "      <td>3</td>\n",
       "      <td>0.388053</td>\n",
       "      <td>0.621104</td>\n",
       "      <td>0.686102</td>\n",
       "      <td>0.501149</td>\n",
       "      <td>0.643790</td>\n",
       "      <td>0.449805</td>\n",
       "      <td>0.510824</td>\n",
       "      <td>0.580748</td>\n",
       "      <td>0.418335</td>\n",
       "      <td>0.432632</td>\n",
       "      <td>0.439872</td>\n",
       "      <td>0.434971</td>\n",
       "      <td>0.369957</td>\n",
       "      <td>0.369484</td>\n",
       "      <td>8.203331</td>\n",
       "    </tr>\n",
       "    <tr>\n",
       "      <th>2</th>\n",
       "      <td>4</td>\n",
       "      <td>0.834950</td>\n",
       "      <td>0.227436</td>\n",
       "      <td>0.301584</td>\n",
       "      <td>0.293408</td>\n",
       "      <td>0.606839</td>\n",
       "      <td>0.829175</td>\n",
       "      <td>0.506143</td>\n",
       "      <td>0.558771</td>\n",
       "      <td>0.587603</td>\n",
       "      <td>0.823312</td>\n",
       "      <td>0.567007</td>\n",
       "      <td>0.677708</td>\n",
       "      <td>0.882938</td>\n",
       "      <td>0.303047</td>\n",
       "      <td>7.776091</td>\n",
       "    </tr>\n",
       "    <tr>\n",
       "      <th>3</th>\n",
       "      <td>5</td>\n",
       "      <td>0.820708</td>\n",
       "      <td>0.160155</td>\n",
       "      <td>0.546887</td>\n",
       "      <td>0.726104</td>\n",
       "      <td>0.282444</td>\n",
       "      <td>0.785108</td>\n",
       "      <td>0.752758</td>\n",
       "      <td>0.823267</td>\n",
       "      <td>0.574466</td>\n",
       "      <td>0.580843</td>\n",
       "      <td>0.769594</td>\n",
       "      <td>0.818143</td>\n",
       "      <td>0.914281</td>\n",
       "      <td>0.279528</td>\n",
       "      <td>6.957716</td>\n",
       "    </tr>\n",
       "    <tr>\n",
       "      <th>4</th>\n",
       "      <td>8</td>\n",
       "      <td>0.935278</td>\n",
       "      <td>0.421235</td>\n",
       "      <td>0.303801</td>\n",
       "      <td>0.880214</td>\n",
       "      <td>0.665610</td>\n",
       "      <td>0.830131</td>\n",
       "      <td>0.487113</td>\n",
       "      <td>0.604157</td>\n",
       "      <td>0.874658</td>\n",
       "      <td>0.863427</td>\n",
       "      <td>0.983575</td>\n",
       "      <td>0.900464</td>\n",
       "      <td>0.935918</td>\n",
       "      <td>0.435772</td>\n",
       "      <td>7.951046</td>\n",
       "    </tr>\n",
       "  </tbody>\n",
       "</table>\n",
       "</div>"
      ],
      "text/plain": [
       "   id     cont1     cont2     cont3     cont4     cont5     cont6     cont7  \\\n",
       "0   1  0.670390  0.811300  0.643968  0.291791  0.284117  0.855953  0.890700   \n",
       "1   3  0.388053  0.621104  0.686102  0.501149  0.643790  0.449805  0.510824   \n",
       "2   4  0.834950  0.227436  0.301584  0.293408  0.606839  0.829175  0.506143   \n",
       "3   5  0.820708  0.160155  0.546887  0.726104  0.282444  0.785108  0.752758   \n",
       "4   8  0.935278  0.421235  0.303801  0.880214  0.665610  0.830131  0.487113   \n",
       "\n",
       "      cont8     cont9    cont10    cont11    cont12    cont13    cont14  \\\n",
       "0  0.285542  0.558245  0.779418  0.921832  0.866772  0.878733  0.305411   \n",
       "1  0.580748  0.418335  0.432632  0.439872  0.434971  0.369957  0.369484   \n",
       "2  0.558771  0.587603  0.823312  0.567007  0.677708  0.882938  0.303047   \n",
       "3  0.823267  0.574466  0.580843  0.769594  0.818143  0.914281  0.279528   \n",
       "4  0.604157  0.874658  0.863427  0.983575  0.900464  0.935918  0.435772   \n",
       "\n",
       "     target  \n",
       "0  7.243043  \n",
       "1  8.203331  \n",
       "2  7.776091  \n",
       "3  6.957716  \n",
       "4  7.951046  "
      ]
     },
     "execution_count": 3,
     "metadata": {},
     "output_type": "execute_result"
    }
   ],
   "source": [
    "train.head()"
   ]
  },
  {
   "cell_type": "code",
   "execution_count": 4,
   "id": "47e1fae7",
   "metadata": {},
   "outputs": [],
   "source": [
    "def clean(data):\n",
    "    data=data.drop(['id'],axis=1)\n",
    "    return data\n",
    "\n",
    "train=clean(train)\n",
    "test=clean(test)"
   ]
  },
  {
   "cell_type": "code",
   "execution_count": 7,
   "id": "5b6f89bb",
   "metadata": {},
   "outputs": [
    {
     "data": {
      "text/plain": [
       "Index(['cont1', 'cont2', 'cont3', 'cont4', 'cont5', 'cont6', 'cont7', 'cont8',\n",
       "       'cont9', 'cont10', 'cont11', 'cont12', 'cont13', 'cont14', 'target'],\n",
       "      dtype='object')"
      ]
     },
     "execution_count": 7,
     "metadata": {},
     "output_type": "execute_result"
    }
   ],
   "source": [
    "train.columns"
   ]
  },
  {
   "cell_type": "code",
   "execution_count": 8,
   "id": "090c6485",
   "metadata": {},
   "outputs": [
    {
     "data": {
      "text/html": [
       "<div>\n",
       "<style scoped>\n",
       "    .dataframe tbody tr th:only-of-type {\n",
       "        vertical-align: middle;\n",
       "    }\n",
       "\n",
       "    .dataframe tbody tr th {\n",
       "        vertical-align: top;\n",
       "    }\n",
       "\n",
       "    .dataframe thead th {\n",
       "        text-align: right;\n",
       "    }\n",
       "</style>\n",
       "<table border=\"1\" class=\"dataframe\">\n",
       "  <thead>\n",
       "    <tr style=\"text-align: right;\">\n",
       "      <th></th>\n",
       "      <th>cont1</th>\n",
       "      <th>cont2</th>\n",
       "      <th>cont3</th>\n",
       "      <th>cont4</th>\n",
       "      <th>cont5</th>\n",
       "      <th>cont6</th>\n",
       "      <th>cont7</th>\n",
       "      <th>cont8</th>\n",
       "      <th>cont9</th>\n",
       "      <th>cont10</th>\n",
       "      <th>cont11</th>\n",
       "      <th>cont12</th>\n",
       "      <th>cont13</th>\n",
       "      <th>cont14</th>\n",
       "      <th>target</th>\n",
       "    </tr>\n",
       "  </thead>\n",
       "  <tbody>\n",
       "    <tr>\n",
       "      <th>0</th>\n",
       "      <td>0.670390</td>\n",
       "      <td>0.811300</td>\n",
       "      <td>0.643968</td>\n",
       "      <td>0.291791</td>\n",
       "      <td>0.284117</td>\n",
       "      <td>0.855953</td>\n",
       "      <td>0.890700</td>\n",
       "      <td>0.285542</td>\n",
       "      <td>0.558245</td>\n",
       "      <td>0.779418</td>\n",
       "      <td>0.921832</td>\n",
       "      <td>0.866772</td>\n",
       "      <td>0.878733</td>\n",
       "      <td>0.305411</td>\n",
       "      <td>7.243043</td>\n",
       "    </tr>\n",
       "    <tr>\n",
       "      <th>1</th>\n",
       "      <td>0.388053</td>\n",
       "      <td>0.621104</td>\n",
       "      <td>0.686102</td>\n",
       "      <td>0.501149</td>\n",
       "      <td>0.643790</td>\n",
       "      <td>0.449805</td>\n",
       "      <td>0.510824</td>\n",
       "      <td>0.580748</td>\n",
       "      <td>0.418335</td>\n",
       "      <td>0.432632</td>\n",
       "      <td>0.439872</td>\n",
       "      <td>0.434971</td>\n",
       "      <td>0.369957</td>\n",
       "      <td>0.369484</td>\n",
       "      <td>8.203331</td>\n",
       "    </tr>\n",
       "    <tr>\n",
       "      <th>2</th>\n",
       "      <td>0.834950</td>\n",
       "      <td>0.227436</td>\n",
       "      <td>0.301584</td>\n",
       "      <td>0.293408</td>\n",
       "      <td>0.606839</td>\n",
       "      <td>0.829175</td>\n",
       "      <td>0.506143</td>\n",
       "      <td>0.558771</td>\n",
       "      <td>0.587603</td>\n",
       "      <td>0.823312</td>\n",
       "      <td>0.567007</td>\n",
       "      <td>0.677708</td>\n",
       "      <td>0.882938</td>\n",
       "      <td>0.303047</td>\n",
       "      <td>7.776091</td>\n",
       "    </tr>\n",
       "    <tr>\n",
       "      <th>3</th>\n",
       "      <td>0.820708</td>\n",
       "      <td>0.160155</td>\n",
       "      <td>0.546887</td>\n",
       "      <td>0.726104</td>\n",
       "      <td>0.282444</td>\n",
       "      <td>0.785108</td>\n",
       "      <td>0.752758</td>\n",
       "      <td>0.823267</td>\n",
       "      <td>0.574466</td>\n",
       "      <td>0.580843</td>\n",
       "      <td>0.769594</td>\n",
       "      <td>0.818143</td>\n",
       "      <td>0.914281</td>\n",
       "      <td>0.279528</td>\n",
       "      <td>6.957716</td>\n",
       "    </tr>\n",
       "    <tr>\n",
       "      <th>4</th>\n",
       "      <td>0.935278</td>\n",
       "      <td>0.421235</td>\n",
       "      <td>0.303801</td>\n",
       "      <td>0.880214</td>\n",
       "      <td>0.665610</td>\n",
       "      <td>0.830131</td>\n",
       "      <td>0.487113</td>\n",
       "      <td>0.604157</td>\n",
       "      <td>0.874658</td>\n",
       "      <td>0.863427</td>\n",
       "      <td>0.983575</td>\n",
       "      <td>0.900464</td>\n",
       "      <td>0.935918</td>\n",
       "      <td>0.435772</td>\n",
       "      <td>7.951046</td>\n",
       "    </tr>\n",
       "    <tr>\n",
       "      <th>...</th>\n",
       "      <td>...</td>\n",
       "      <td>...</td>\n",
       "      <td>...</td>\n",
       "      <td>...</td>\n",
       "      <td>...</td>\n",
       "      <td>...</td>\n",
       "      <td>...</td>\n",
       "      <td>...</td>\n",
       "      <td>...</td>\n",
       "      <td>...</td>\n",
       "      <td>...</td>\n",
       "      <td>...</td>\n",
       "      <td>...</td>\n",
       "      <td>...</td>\n",
       "      <td>...</td>\n",
       "    </tr>\n",
       "    <tr>\n",
       "      <th>299995</th>\n",
       "      <td>0.216974</td>\n",
       "      <td>0.735265</td>\n",
       "      <td>0.648648</td>\n",
       "      <td>0.255387</td>\n",
       "      <td>0.616353</td>\n",
       "      <td>0.345197</td>\n",
       "      <td>0.295718</td>\n",
       "      <td>0.304357</td>\n",
       "      <td>0.314351</td>\n",
       "      <td>0.860504</td>\n",
       "      <td>0.315397</td>\n",
       "      <td>0.247682</td>\n",
       "      <td>0.486542</td>\n",
       "      <td>0.288750</td>\n",
       "      <td>7.385215</td>\n",
       "    </tr>\n",
       "    <tr>\n",
       "      <th>299996</th>\n",
       "      <td>0.545799</td>\n",
       "      <td>0.165139</td>\n",
       "      <td>0.220966</td>\n",
       "      <td>0.190053</td>\n",
       "      <td>0.359362</td>\n",
       "      <td>0.386336</td>\n",
       "      <td>0.365767</td>\n",
       "      <td>0.344217</td>\n",
       "      <td>0.466446</td>\n",
       "      <td>0.454581</td>\n",
       "      <td>0.360251</td>\n",
       "      <td>0.360755</td>\n",
       "      <td>0.292535</td>\n",
       "      <td>0.619984</td>\n",
       "      <td>7.242617</td>\n",
       "    </tr>\n",
       "    <tr>\n",
       "      <th>299997</th>\n",
       "      <td>0.284401</td>\n",
       "      <td>0.841542</td>\n",
       "      <td>0.957585</td>\n",
       "      <td>0.340383</td>\n",
       "      <td>0.396279</td>\n",
       "      <td>0.330376</td>\n",
       "      <td>0.525687</td>\n",
       "      <td>0.260039</td>\n",
       "      <td>0.378174</td>\n",
       "      <td>0.526925</td>\n",
       "      <td>0.491735</td>\n",
       "      <td>0.516629</td>\n",
       "      <td>0.173521</td>\n",
       "      <td>0.714552</td>\n",
       "      <td>9.592487</td>\n",
       "    </tr>\n",
       "    <tr>\n",
       "      <th>299998</th>\n",
       "      <td>0.481900</td>\n",
       "      <td>0.622346</td>\n",
       "      <td>0.540032</td>\n",
       "      <td>0.823118</td>\n",
       "      <td>0.283066</td>\n",
       "      <td>0.434283</td>\n",
       "      <td>0.174342</td>\n",
       "      <td>0.710843</td>\n",
       "      <td>0.358690</td>\n",
       "      <td>0.648272</td>\n",
       "      <td>0.984647</td>\n",
       "      <td>1.001110</td>\n",
       "      <td>0.063956</td>\n",
       "      <td>0.377693</td>\n",
       "      <td>8.207951</td>\n",
       "    </tr>\n",
       "    <tr>\n",
       "      <th>299999</th>\n",
       "      <td>0.486632</td>\n",
       "      <td>0.230090</td>\n",
       "      <td>0.543587</td>\n",
       "      <td>0.263878</td>\n",
       "      <td>0.279118</td>\n",
       "      <td>0.636295</td>\n",
       "      <td>0.472391</td>\n",
       "      <td>0.339654</td>\n",
       "      <td>0.444787</td>\n",
       "      <td>0.636765</td>\n",
       "      <td>0.782196</td>\n",
       "      <td>0.559692</td>\n",
       "      <td>0.762954</td>\n",
       "      <td>0.215539</td>\n",
       "      <td>8.890285</td>\n",
       "    </tr>\n",
       "  </tbody>\n",
       "</table>\n",
       "<p>300000 rows × 15 columns</p>\n",
       "</div>"
      ],
      "text/plain": [
       "           cont1     cont2     cont3     cont4     cont5     cont6     cont7  \\\n",
       "0       0.670390  0.811300  0.643968  0.291791  0.284117  0.855953  0.890700   \n",
       "1       0.388053  0.621104  0.686102  0.501149  0.643790  0.449805  0.510824   \n",
       "2       0.834950  0.227436  0.301584  0.293408  0.606839  0.829175  0.506143   \n",
       "3       0.820708  0.160155  0.546887  0.726104  0.282444  0.785108  0.752758   \n",
       "4       0.935278  0.421235  0.303801  0.880214  0.665610  0.830131  0.487113   \n",
       "...          ...       ...       ...       ...       ...       ...       ...   \n",
       "299995  0.216974  0.735265  0.648648  0.255387  0.616353  0.345197  0.295718   \n",
       "299996  0.545799  0.165139  0.220966  0.190053  0.359362  0.386336  0.365767   \n",
       "299997  0.284401  0.841542  0.957585  0.340383  0.396279  0.330376  0.525687   \n",
       "299998  0.481900  0.622346  0.540032  0.823118  0.283066  0.434283  0.174342   \n",
       "299999  0.486632  0.230090  0.543587  0.263878  0.279118  0.636295  0.472391   \n",
       "\n",
       "           cont8     cont9    cont10    cont11    cont12    cont13    cont14  \\\n",
       "0       0.285542  0.558245  0.779418  0.921832  0.866772  0.878733  0.305411   \n",
       "1       0.580748  0.418335  0.432632  0.439872  0.434971  0.369957  0.369484   \n",
       "2       0.558771  0.587603  0.823312  0.567007  0.677708  0.882938  0.303047   \n",
       "3       0.823267  0.574466  0.580843  0.769594  0.818143  0.914281  0.279528   \n",
       "4       0.604157  0.874658  0.863427  0.983575  0.900464  0.935918  0.435772   \n",
       "...          ...       ...       ...       ...       ...       ...       ...   \n",
       "299995  0.304357  0.314351  0.860504  0.315397  0.247682  0.486542  0.288750   \n",
       "299996  0.344217  0.466446  0.454581  0.360251  0.360755  0.292535  0.619984   \n",
       "299997  0.260039  0.378174  0.526925  0.491735  0.516629  0.173521  0.714552   \n",
       "299998  0.710843  0.358690  0.648272  0.984647  1.001110  0.063956  0.377693   \n",
       "299999  0.339654  0.444787  0.636765  0.782196  0.559692  0.762954  0.215539   \n",
       "\n",
       "          target  \n",
       "0       7.243043  \n",
       "1       8.203331  \n",
       "2       7.776091  \n",
       "3       6.957716  \n",
       "4       7.951046  \n",
       "...          ...  \n",
       "299995  7.385215  \n",
       "299996  7.242617  \n",
       "299997  9.592487  \n",
       "299998  8.207951  \n",
       "299999  8.890285  \n",
       "\n",
       "[300000 rows x 15 columns]"
      ]
     },
     "execution_count": 8,
     "metadata": {},
     "output_type": "execute_result"
    }
   ],
   "source": [
    "train.replace(\"?\", np.nan)"
   ]
  },
  {
   "cell_type": "code",
   "execution_count": 9,
   "id": "3150811e",
   "metadata": {},
   "outputs": [
    {
     "data": {
      "text/plain": [
       "cont1     0\n",
       "cont2     0\n",
       "cont3     0\n",
       "cont4     0\n",
       "cont5     0\n",
       "cont6     0\n",
       "cont7     0\n",
       "cont8     0\n",
       "cont9     0\n",
       "cont10    0\n",
       "cont11    0\n",
       "cont12    0\n",
       "cont13    0\n",
       "cont14    0\n",
       "target    0\n",
       "dtype: int64"
      ]
     },
     "execution_count": 9,
     "metadata": {},
     "output_type": "execute_result"
    }
   ],
   "source": [
    "train.isnull().sum()"
   ]
  },
  {
   "cell_type": "code",
   "execution_count": 10,
   "id": "a47a0818",
   "metadata": {},
   "outputs": [],
   "source": [
    "from sklearn.model_selection import train_test_split\n",
    "from sklearn.preprocessing import StandardScaler\n",
    "from sklearn.metrics import mean_squared_error\n",
    "import tensorflow as tf\n",
    "from tensorflow.keras import Sequential\n",
    "from tensorflow.keras.layers import Dense"
   ]
  },
  {
   "cell_type": "code",
   "execution_count": 11,
   "id": "fdaa1228",
   "metadata": {},
   "outputs": [],
   "source": [
    "x=train.drop(['target'], axis=1)\n",
    "y=train['target']"
   ]
  },
  {
   "cell_type": "code",
   "execution_count": 12,
   "id": "c5790e12",
   "metadata": {},
   "outputs": [],
   "source": [
    "x_train, x_test, y_train, y_test= train_test_split(x, y, test_size=0.2, random_state=42)"
   ]
  },
  {
   "cell_type": "code",
   "execution_count": 13,
   "id": "a25d3c9e",
   "metadata": {},
   "outputs": [],
   "source": [
    "scaler= StandardScaler()"
   ]
  },
  {
   "cell_type": "code",
   "execution_count": 14,
   "id": "31fb716f",
   "metadata": {},
   "outputs": [],
   "source": [
    "x_train=scaler.fit_transform(x_train)\n",
    "x_test=scaler.transform(x_test)"
   ]
  },
  {
   "cell_type": "code",
   "execution_count": 15,
   "id": "eb3a4fbc",
   "metadata": {},
   "outputs": [],
   "source": [
    "#Building the neural network model\n",
    "\n",
    "model=Sequential()\n",
    "model.add(Dense(128, activation='relu', input_shape=(x_train.shape[1],)))\n",
    "model.add(Dense(64, activation='relu'))\n",
    "model.add(Dense(1))"
   ]
  },
  {
   "cell_type": "code",
   "execution_count": 16,
   "id": "9eea87b6",
   "metadata": {},
   "outputs": [],
   "source": [
    "model.compile(optimizer='adam', loss='mean_squared_error')"
   ]
  },
  {
   "cell_type": "code",
   "execution_count": 17,
   "id": "d4fb8c19",
   "metadata": {},
   "outputs": [
    {
     "name": "stdout",
     "output_type": "stream",
     "text": [
      "Epoch 1/10\n",
      "7500/7500 [==============================] - 19s 2ms/step - loss: 0.8164 - val_loss: 0.5593\n",
      "Epoch 2/10\n",
      "7500/7500 [==============================] - 17s 2ms/step - loss: 0.5384 - val_loss: 0.5222\n",
      "Epoch 3/10\n",
      "7500/7500 [==============================] - 17s 2ms/step - loss: 0.5324 - val_loss: 0.5258\n",
      "Epoch 4/10\n",
      "7500/7500 [==============================] - 17s 2ms/step - loss: 0.5304 - val_loss: 0.5208\n",
      "Epoch 5/10\n",
      "7500/7500 [==============================] - 17s 2ms/step - loss: 0.5270 - val_loss: 0.5136\n",
      "Epoch 6/10\n",
      "7500/7500 [==============================] - 17s 2ms/step - loss: 0.5246 - val_loss: 0.5219\n",
      "Epoch 7/10\n",
      "7500/7500 [==============================] - 17s 2ms/step - loss: 0.5231 - val_loss: 0.5147\n",
      "Epoch 8/10\n",
      "7500/7500 [==============================] - 17s 2ms/step - loss: 0.5217 - val_loss: 0.5269\n",
      "Epoch 9/10\n",
      "7500/7500 [==============================] - 17s 2ms/step - loss: 0.5203 - val_loss: 0.5094\n",
      "Epoch 10/10\n",
      "7500/7500 [==============================] - 17s 2ms/step - loss: 0.5192 - val_loss: 0.5110\n"
     ]
    },
    {
     "data": {
      "text/plain": [
       "<keras.src.callbacks.History at 0x24730bdc880>"
      ]
     },
     "execution_count": 17,
     "metadata": {},
     "output_type": "execute_result"
    }
   ],
   "source": [
    "model.fit(x_train, y_train, epochs=10, batch_size=32, validation_data=(x_test, y_test))"
   ]
  },
  {
   "cell_type": "code",
   "execution_count": 18,
   "id": "bb6edb22",
   "metadata": {},
   "outputs": [
    {
     "name": "stdout",
     "output_type": "stream",
     "text": [
      "1875/1875 [==============================] - 3s 2ms/step\n"
     ]
    }
   ],
   "source": [
    "y_pred=model.predict(x_test)"
   ]
  },
  {
   "cell_type": "code",
   "execution_count": 19,
   "id": "acf8c32f",
   "metadata": {},
   "outputs": [],
   "source": [
    "mse=mean_squared_error(y_test, y_pred)"
   ]
  },
  {
   "cell_type": "code",
   "execution_count": 20,
   "id": "a88786d8",
   "metadata": {},
   "outputs": [
    {
     "name": "stdout",
     "output_type": "stream",
     "text": [
      " Mean Squared Error on Validation set: 0.5109671733033309\n"
     ]
    }
   ],
   "source": [
    "print(f' Mean Squared Error on Validation set: {mse}')"
   ]
  },
  {
   "cell_type": "code",
   "execution_count": 21,
   "id": "468f3cbe",
   "metadata": {},
   "outputs": [
    {
     "name": "stdout",
     "output_type": "stream",
     "text": [
      "6250/6250 [==============================] - 10s 2ms/step\n"
     ]
    }
   ],
   "source": [
    "test_predictions=model.predict(test)"
   ]
  },
  {
   "cell_type": "code",
   "execution_count": 23,
   "id": "bca2b6f2",
   "metadata": {
    "scrolled": true
   },
   "outputs": [],
   "source": [
    "df=pd.DataFrame({\"id\":test_ids.values,\n",
    "                \"target\":test_predictions.flatten()\n",
    "                })"
   ]
  },
  {
   "cell_type": "code",
   "execution_count": 29,
   "id": "444cddb2",
   "metadata": {},
   "outputs": [],
   "source": [
    "df.to_csv(\"submission1.csv\", index=False)"
   ]
  },
  {
   "cell_type": "code",
   "execution_count": 30,
   "id": "3bbb312d",
   "metadata": {},
   "outputs": [],
   "source": [
    "import os"
   ]
  },
  {
   "cell_type": "code",
   "execution_count": 31,
   "id": "490fac32",
   "metadata": {},
   "outputs": [
    {
     "name": "stdout",
     "output_type": "stream",
     "text": [
      "C:\\Users\\shashank s\n"
     ]
    }
   ],
   "source": [
    "c=os.getcwd()\n",
    "print(c)"
   ]
  },
  {
   "cell_type": "code",
   "execution_count": null,
   "id": "dc1af33d",
   "metadata": {},
   "outputs": [],
   "source": []
  }
 ],
 "metadata": {
  "kernelspec": {
   "display_name": "Python (mlops)",
   "language": "python",
   "name": "mlops"
  },
  "language_info": {
   "codemirror_mode": {
    "name": "ipython",
    "version": 3
   },
   "file_extension": ".py",
   "mimetype": "text/x-python",
   "name": "python",
   "nbconvert_exporter": "python",
   "pygments_lexer": "ipython3",
   "version": "3.10.12"
  }
 },
 "nbformat": 4,
 "nbformat_minor": 5
}
